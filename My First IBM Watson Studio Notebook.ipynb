{
    "nbformat_minor": 1, 
    "cells": [
        {
            "source": "# My Jupyter Notebook on IBM Data Science Experience", 
            "cell_type": "markdown", 
            "metadata": {
                "collapsed": true
            }
        }, 
        {
            "source": "**Yuen Wei Le**  \nCurrent Position: Project Manager  \nDesired Position: Data Scientist  ", 
            "cell_type": "markdown", 
            "metadata": {}
        }, 
        {
            "source": "_I am interested in Data Science because I believe it will be the key to solve many problems and Data Scientists will be the ones who can communicate their solutions or findings to allow for better decision making or strategic actions._", 
            "cell_type": "markdown", 
            "metadata": {}
        }, 
        {
            "source": "### My code in cell 5 stores a string \"Hi, this is my first notebook\" in the variable x, then prints the variable.", 
            "cell_type": "markdown", 
            "metadata": {}
        }, 
        {
            "source": "x = \"Hi, this is my first notebook\"\nprint(x)", 
            "cell_type": "code", 
            "metadata": {}, 
            "outputs": [
                {
                    "output_type": "stream", 
                    "name": "stdout", 
                    "text": "Hi, this is my first notebook\n"
                }
            ], 
            "execution_count": 2
        }, 
        {
            "source": "1. First ordered list item  \n1. Another item  \n   1. sub-list  \n      1. sub-list\n      \n      \n[Hyperlink to Google.com](https://www.google.com)\n\n~~Strikethrough~~", 
            "cell_type": "markdown", 
            "metadata": {}
        }, 
        {
            "source": "", 
            "cell_type": "code", 
            "metadata": {}, 
            "outputs": [], 
            "execution_count": null
        }
    ], 
    "metadata": {
        "kernelspec": {
            "display_name": "Python 3.5", 
            "name": "python3", 
            "language": "python"
        }, 
        "language_info": {
            "mimetype": "text/x-python", 
            "nbconvert_exporter": "python", 
            "version": "3.5.5", 
            "name": "python", 
            "file_extension": ".py", 
            "pygments_lexer": "ipython3", 
            "codemirror_mode": {
                "version": 3, 
                "name": "ipython"
            }
        }
    }, 
    "nbformat": 4
}